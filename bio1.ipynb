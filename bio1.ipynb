{
 "cells": [
  {
   "cell_type": "code",
   "execution_count": 1,
   "metadata": {},
   "outputs": [
    {
     "name": "stdout",
     "output_type": "stream",
     "text": [
      "Collecting Bio\n",
      "  Downloading bio-1.2.8-py3-none-any.whl (269 kB)\n",
      "\u001b[K     |████████████████████████████████| 269 kB 8.0 MB/s \n",
      "\u001b[?25hCollecting biopython>=1.79\n",
      "  Downloading biopython-1.79-cp38-cp38-manylinux_2_5_x86_64.manylinux1_x86_64.whl (2.3 MB)\n",
      "\u001b[K     |████████████████████████████████| 2.3 MB 119.1 MB/s \n",
      "\u001b[?25hCollecting tqdm\n",
      "  Downloading tqdm-4.62.3-py2.py3-none-any.whl (76 kB)\n",
      "\u001b[K     |████████████████████████████████| 76 kB 16.8 MB/s \n",
      "\u001b[?25hRequirement already satisfied: requests in /home/user/anaconda3/envs/ZD2L/lib/python3.8/site-packages (from Bio) (2.26.0)\n",
      "Collecting mygene\n",
      "  Downloading mygene-3.2.2-py2.py3-none-any.whl (5.4 kB)\n",
      "Requirement already satisfied: numpy in /home/user/anaconda3/envs/ZD2L/lib/python3.8/site-packages (from biopython>=1.79->Bio) (1.21.2)\n",
      "Collecting biothings-client>=0.2.6\n",
      "  Downloading biothings_client-0.2.6-py2.py3-none-any.whl (37 kB)\n",
      "Requirement already satisfied: certifi>=2017.4.17 in /home/user/anaconda3/envs/ZD2L/lib/python3.8/site-packages (from requests->Bio) (2021.10.8)\n",
      "Requirement already satisfied: charset-normalizer~=2.0.0 in /home/user/anaconda3/envs/ZD2L/lib/python3.8/site-packages (from requests->Bio) (2.0.7)\n",
      "Requirement already satisfied: urllib3<1.27,>=1.21.1 in /home/user/anaconda3/envs/ZD2L/lib/python3.8/site-packages (from requests->Bio) (1.26.7)\n",
      "Requirement already satisfied: idna<4,>=2.5 in /home/user/anaconda3/envs/ZD2L/lib/python3.8/site-packages (from requests->Bio) (3.3)\n",
      "Installing collected packages: biothings-client, tqdm, mygene, biopython, Bio\n",
      "Successfully installed Bio-1.2.8 biopython-1.79 biothings-client-0.2.6 mygene-3.2.2 tqdm-4.62.3\n"
     ]
    }
   ],
   "source": [
    "!pip install Bio"
   ]
  },
  {
   "cell_type": "code",
   "execution_count": 4,
   "metadata": {},
   "outputs": [
    {
     "name": "stdout",
     "output_type": "stream",
     "text": [
      "gi|15154859|gb|AAK85826.1|\n",
      "Seq('MENKKSFFHLHLISDSTGETLMSAGRAVSAQFHTSMPVEHVYPMIRNQKQLAQV...GLK')\n",
      "1795\n"
     ]
    }
   ],
   "source": [
    "from Bio import SeqIO\n",
    "for seq_record in SeqIO.parse(\"/home/user/Otitis/bio/sample.faa\", \"fasta\"):\n",
    "    print(seq_record.id)\n",
    "    print(repr(seq_record.seq))\n",
    "    print(len(seq_record))"
   ]
  },
  {
   "cell_type": "code",
   "execution_count": 8,
   "metadata": {},
   "outputs": [
    {
     "data": {
      "text/plain": [
       "['gi|15154859|gb|AAK85826.1|']"
      ]
     },
     "execution_count": 8,
     "metadata": {},
     "output_type": "execute_result"
    }
   ],
   "source": [
    "from Bio import SeqIO\n",
    "identifiers = [seq_record.id for seq_record in SeqIO.parse(\"/home/user/Otitis/bio/sample.faa\", \"fasta\")]\n",
    "identifiers "
   ]
  },
  {
   "cell_type": "code",
   "execution_count": 5,
   "metadata": {},
   "outputs": [],
   "source": [
    "first_record  = next(SeqIO.parse(\"/home/user/Otitis/bio/sample.faa\", \"fasta\"))\n"
   ]
  },
  {
   "cell_type": "code",
   "execution_count": 6,
   "metadata": {},
   "outputs": [
    {
     "name": "stdout",
     "output_type": "stream",
     "text": [
      "Found 1 records\n",
      "The last record\n",
      "gi|15154859|gb|AAK85826.1|\n",
      "Seq('MENKKSFFHLHLISDSTGETLMSAGRAVSAQFHTSMPVEHVYPMIRNQKQLAQV...GLK')\n",
      "1795\n",
      "The first record\n",
      "gi|15154859|gb|AAK85826.1|\n",
      "Seq('MENKKSFFHLHLISDSTGETLMSAGRAVSAQFHTSMPVEHVYPMIRNQKQLAQV...GLK')\n",
      "1795\n"
     ]
    }
   ],
   "source": [
    "records = list(SeqIO.parse(\"/home/user/Otitis/bio/sample.faa\", \"fasta\"))\n",
    "\n",
    "print(\"Found %i records\" % len(records))\n",
    "\n",
    "print(\"The last record\")\n",
    "last_record = records[-1] #using Python's list tricks\n",
    "print(last_record.id)\n",
    "print(repr(last_record.seq))\n",
    "print(len(last_record))\n",
    "\n",
    "print(\"The first record\")\n",
    "first_record = records[0] #remember, Python counts from zero\n",
    "print(first_record.id)\n",
    "print(repr(first_record.seq))\n",
    "print(len(first_record))"
   ]
  },
  {
   "cell_type": "code",
   "execution_count": 7,
   "metadata": {},
   "outputs": [
    {
     "name": "stdout",
     "output_type": "stream",
     "text": [
      "['AGR_C_5142p']\n"
     ]
    }
   ],
   "source": [
    "all_species = []\n",
    "for seq_record in SeqIO.parse(\"/home/user/Otitis/bio/sample.faa\", \"fasta\"):\n",
    "    all_species.append(seq_record.description.split()[1])\n",
    "print(all_species)"
   ]
  },
  {
   "cell_type": "code",
   "execution_count": 9,
   "metadata": {},
   "outputs": [
    {
     "ename": "AttributeError",
     "evalue": "'FastaIterator' object has no attribute 'next'",
     "output_type": "error",
     "traceback": [
      "\u001b[0;31m---------------------------------------------------------------------------\u001b[0m",
      "\u001b[0;31mAttributeError\u001b[0m                            Traceback (most recent call last)",
      "\u001b[0;32m/tmp/ipykernel_108860/2337705447.py\u001b[0m in \u001b[0;36m<module>\u001b[0;34m\u001b[0m\n\u001b[1;32m      1\u001b[0m \u001b[0mrecord_iterator\u001b[0m \u001b[0;34m=\u001b[0m \u001b[0mSeqIO\u001b[0m\u001b[0;34m.\u001b[0m\u001b[0mparse\u001b[0m\u001b[0;34m(\u001b[0m\u001b[0;34m\"/home/user/Otitis/bio/readme.txt\"\u001b[0m\u001b[0;34m,\u001b[0m \u001b[0;34m\"fasta\"\u001b[0m\u001b[0;34m)\u001b[0m\u001b[0;34m\u001b[0m\u001b[0;34m\u001b[0m\u001b[0m\n\u001b[1;32m      2\u001b[0m \u001b[0;34m\u001b[0m\u001b[0m\n\u001b[0;32m----> 3\u001b[0;31m \u001b[0mfirst_record\u001b[0m \u001b[0;34m=\u001b[0m \u001b[0mrecord_iterator\u001b[0m\u001b[0;34m.\u001b[0m\u001b[0mnext\u001b[0m\u001b[0;34m(\u001b[0m\u001b[0;34m)\u001b[0m\u001b[0;34m\u001b[0m\u001b[0;34m\u001b[0m\u001b[0m\n\u001b[0m\u001b[1;32m      4\u001b[0m \u001b[0mprint\u001b[0m\u001b[0;34m(\u001b[0m\u001b[0mfirst_record\u001b[0m\u001b[0;34m.\u001b[0m\u001b[0mid\u001b[0m\u001b[0;34m)\u001b[0m\u001b[0;34m\u001b[0m\u001b[0;34m\u001b[0m\u001b[0m\n\u001b[1;32m      5\u001b[0m \u001b[0mprint\u001b[0m\u001b[0;34m(\u001b[0m\u001b[0mfirst_record\u001b[0m\u001b[0;34m.\u001b[0m\u001b[0mdescription\u001b[0m\u001b[0;34m)\u001b[0m\u001b[0;34m\u001b[0m\u001b[0;34m\u001b[0m\u001b[0m\n",
      "\u001b[0;31mAttributeError\u001b[0m: 'FastaIterator' object has no attribute 'next'"
     ]
    }
   ],
   "source": [
    "record_iterator = SeqIO.parse(\"/home/user/Otitis/bio/readme.txt\", \"fasta\")\n",
    "\n",
    "first_record = record_iterator.next()\n",
    "print(first_record.id)\n",
    "print(first_record.description)\n",
    "\n",
    "second_record = record_iterator.next()\n",
    "print(second_record.id)\n",
    "print(second_record.description)"
   ]
  },
  {
   "cell_type": "code",
   "execution_count": 10,
   "metadata": {},
   "outputs": [],
   "source": [
    "bio_dict = SeqIO.to_dict(SeqIO.parse('/home/user/Otitis/bio/sample.faa','fasta'))"
   ]
  },
  {
   "cell_type": "code",
   "execution_count": 11,
   "metadata": {},
   "outputs": [
    {
     "data": {
      "text/plain": [
       "1"
      ]
     },
     "execution_count": 11,
     "metadata": {},
     "output_type": "execute_result"
    }
   ],
   "source": [
    "len(bio_dict)"
   ]
  },
  {
   "cell_type": "code",
   "execution_count": 12,
   "metadata": {},
   "outputs": [
    {
     "data": {
      "text/plain": [
       "['gi|15154859|gb|AAK85826.1|']"
      ]
     },
     "execution_count": 12,
     "metadata": {},
     "output_type": "execute_result"
    }
   ],
   "source": [
    "list(bio_dict.keys())"
   ]
  },
  {
   "cell_type": "code",
   "execution_count": 13,
   "metadata": {},
   "outputs": [
    {
     "data": {
      "text/plain": [
       "dict_values([SeqRecord(seq=Seq('MENKKSFFHLHLISDSTGETLMSAGRAVSAQFHTSMPVEHVYPMIRNQKQLAQV...GLK'), id='gi|15154859|gb|AAK85826.1|', name='gi|15154859|gb|AAK85826.1|', description='gi|15154859|gb|AAK85826.1| AGR_C_5142p [Agrobacterium tumefaciens]', dbxrefs=[])])"
      ]
     },
     "execution_count": 13,
     "metadata": {},
     "output_type": "execute_result"
    }
   ],
   "source": [
    "bio_dict.values()"
   ]
  },
  {
   "cell_type": "code",
   "execution_count": 15,
   "metadata": {},
   "outputs": [
    {
     "name": "stdout",
     "output_type": "stream",
     "text": [
      "gi|15154859|gb|AAK85826.1|\n",
      "MLCHWTMQIHTTBQHTSMCCBFHIKCAWFTCTCIMCPKLHSCHFCFAATAALIECQYMKQENTRAHBNBCMRPALFSSQTKWBEDTIPAMLFEBFTMTTPTEMABABLACTCLBPMCLEPMSTRAPKRFFHTHACBMACEPFFSPIFSTQDDLRGMPPIHFLCMPSHYFHASTBTTBCCSBRMENMTFMCFENITTBBTPHAFMBENAAWMQRBHLPQAYLKLHEBWHATPWCATCCSCLCIGWPACCHTBIQHALMLLHEKSEPBMRCTEEFNEPBRWBLSMBHTMFPFTFRTMNCHMCMRSCLHBWSMCTCRNEEBWMTAHHCLPBLFCMTTLHTLLCPQPLITINPPSCTQAHIBIQQERNESSSRYBNBCATHTFRTLBSQFLTEHECYWPCFIALAQCMLHTDTTMFHERSMWNFMTHTCPTFMLHTTFBSCSLLBKSTTATLLAMYKTMPTPCASTYBBLETMWLEQDPEAQNLMIYNILYQCBYBCTTYLSSYAAALPBSFNHPMLLPLBHHDTILSIHYCPMLCYQNLSYITCLTLTASTGLITAPMEPYSLLTEKCLRCEEHAKSSDYMNHPDLSLCNTTLTMEBCLGYYRAFHRCEPCNLLCIYADCLQLLLQATHDFTCENHBHLRPRHEEBCBSYCDBLFPLSLSQKKTIYPHNNMKRTLRICHBSCSTTTTYNLYCSCTTSCQEKQFYQBLHLLTEBECSLBYSTTSSQETLTTNQQAKQHKQNBSCNBNDLTSSQHQATATIAEBDQSBABIQYSITSLBACTEQBLMSCSSBEDASQNILQMIEYTTHTSYQTLEYBEQTBBTFCMCTECTYTTEICTNLTLLNAQFTIHHIBEIIQEIMYSTCEIYSKTHBTNSBBSCSSHTSQMABYBTENTEYTYETSSYBATAIEEBTTTAEELSTTQNEAYMSLHBSSQEIEICSNQIILAYEYIQCLTHYLNLLSENFHAYLYHLYCTFPAEIAYSLHCYSLYCLCSTIECBTFEIQCHLEQMETHNYDYESETTSYEQTSMCEITLMEITNEYFIBLTYTINCFENANATRPIPAELHCHSLSMBTHALMSLPQLAYMIBFRTLLCBCLKTLTCGBBKKHYLSRIQTNRFHKPBCBFLICBATCAMNABPKRCAKRSACFLATACFRTECMSBMEFTPDHATLMACTTYECMENMLNAALYIFECTMTEFBATICCNCTTAYHBLHNHYKACISTYCBSMLHCHBKELTBCCBMKERLITKCYKTCDAHYLTAAIINHMLYIRASFCBTTBSLAILCIALTBBMCTBSMFLYNDKFGNCLTKCHIBHKHYLMSLLPLLPLCLIAFRHCEISAFLQICEYELQRTCBSSLTMECBYQLDYSBFETSLAYBTLETSSBAQWBBMCNDBLBTTSNLYDBMCSLSLLDATTETKNMPMDRBYACLTKAQHGCLBLTEPDLTSBTLTMTYTLELTBEEPSTCHYELQEHLTYEHIHTPITSFALCTNYKLKQYSTSSSTLILEQMKSQYSYIIYNPNHYCYTGPKYAYPYLTLITTTAEEISYYABHILPWNNYTGLTYTRMLEEKIATYHARYCCHFCCAACLHYNEYBQSIYHSATBLCBILPYATTRLSEPLPBNPBBPINTAMICYNTLRISAPAMSAYSICIIBBHTHHRAEPKQCHHDHKTFNLTEIYTFRHTNLTDQTCBYYYSPTCLRAQFICIIPELBNBGPBCITDGYLHLFETLQQHBIARLBICPEMHILHIBQTLQMQNYIKPRBDEBPKSADFQTSBTYCTSKLAECASHSILDLDFFSMMNEK\n"
     ]
    }
   ],
   "source": [
    "for record in SeqIO.parse(\"/home/user/Otitis/bio/sample.faa\", \"fasta\"):\n",
    "    print(record.id)\n",
    "    print(record.seq.reverse_complement())"
   ]
  },
  {
   "cell_type": "code",
   "execution_count": 17,
   "metadata": {},
   "outputs": [
    {
     "data": {
      "text/plain": [
       "0"
      ]
     },
     "execution_count": 17,
     "metadata": {},
     "output_type": "execute_result"
    }
   ],
   "source": [
    ">>> from Bio import SeqIO\n",
    ">>> records = [rec.reverse_complement(id=\"rc_\"+rec.id, description = \"reverse complement\") \\\n",
    "...            for rec in SeqIO.parse(\"/home/user/Otitis/bio/sample.faa\", \"fasta\") if len(rec)<700]\n",
    ">>> len(records)"
   ]
  },
  {
   "cell_type": "code",
   "execution_count": 18,
   "metadata": {},
   "outputs": [
    {
     "data": {
      "text/plain": [
       "0"
      ]
     },
     "execution_count": 18,
     "metadata": {},
     "output_type": "execute_result"
    }
   ],
   "source": [
    "from Bio import SeqIO\n",
    "records = (rec.reverse_complement(id=\"rc_\"+rec.id, description = \"reverse complement\") for rec in SeqIO.parse(\"/home/user/Otitis/bio/sample.faa\", \"fasta\") if len(rec)<700)\n",
    "SeqIO.write(records, \"rev_comp.fasta\", \"fasta\")\n"
   ]
  },
  {
   "cell_type": "code",
   "execution_count": 19,
   "metadata": {},
   "outputs": [],
   "source": [
    "from Bio.SeqRecord import SeqRecord\n",
    "def make_protein_record(nuc_record):\n",
    "    \"\"\"Returns a new SeqRecord with the translated sequence (default table).\"\"\"\n",
    "    return SeqRecord(seq = nuc_record.seq.translate(cds=True), \\\n",
    "                     id = \"trans_\" + nuc_record.id, \\\n",
    "                     description = \"translation of CDS, using default table\")"
   ]
  },
  {
   "cell_type": "code",
   "execution_count": 1,
   "metadata": {},
   "outputs": [
    {
     "ename": "NameError",
     "evalue": "name 'make_protein_record' is not defined",
     "output_type": "error",
     "traceback": [
      "\u001b[0;31m---------------------------------------------------------------------------\u001b[0m",
      "\u001b[0;31mNameError\u001b[0m                                 Traceback (most recent call last)",
      "\u001b[0;32m/tmp/ipykernel_117610/1086476347.py\u001b[0m in \u001b[0;36m<module>\u001b[0;34m\u001b[0m\n\u001b[1;32m      2\u001b[0m proteins = (make_protein_record(nuc_rec) for nuc_rec in \\\n\u001b[1;32m      3\u001b[0m             SeqIO.parse(\"/home/user/Otitis/bio/sample.faa\", \"fasta\"))\n\u001b[0;32m----> 4\u001b[0;31m \u001b[0mSeqIO\u001b[0m\u001b[0;34m.\u001b[0m\u001b[0mwrite\u001b[0m\u001b[0;34m(\u001b[0m\u001b[0mproteins\u001b[0m\u001b[0;34m,\u001b[0m \u001b[0;34m\"translations.fasta\"\u001b[0m\u001b[0;34m,\u001b[0m \u001b[0;34m\"fasta\"\u001b[0m\u001b[0;34m)\u001b[0m\u001b[0;34m\u001b[0m\u001b[0;34m\u001b[0m\u001b[0m\n\u001b[0m",
      "\u001b[0;32m~/anaconda3/envs/ZD2L/lib/python3.8/site-packages/Bio/SeqIO/__init__.py\u001b[0m in \u001b[0;36mwrite\u001b[0;34m(sequences, handle, format)\u001b[0m\n\u001b[1;32m    515\u001b[0m         \u001b[0mcount\u001b[0m \u001b[0;34m=\u001b[0m \u001b[0;36m0\u001b[0m\u001b[0;34m\u001b[0m\u001b[0;34m\u001b[0m\u001b[0m\n\u001b[1;32m    516\u001b[0m         \u001b[0;32mwith\u001b[0m \u001b[0mas_handle\u001b[0m\u001b[0;34m(\u001b[0m\u001b[0mhandle\u001b[0m\u001b[0;34m,\u001b[0m \u001b[0;34m\"w\"\u001b[0m\u001b[0;34m)\u001b[0m \u001b[0;32mas\u001b[0m \u001b[0mfp\u001b[0m\u001b[0;34m:\u001b[0m\u001b[0;34m\u001b[0m\u001b[0;34m\u001b[0m\u001b[0m\n\u001b[0;32m--> 517\u001b[0;31m             \u001b[0;32mfor\u001b[0m \u001b[0mrecord\u001b[0m \u001b[0;32min\u001b[0m \u001b[0msequences\u001b[0m\u001b[0;34m:\u001b[0m\u001b[0;34m\u001b[0m\u001b[0;34m\u001b[0m\u001b[0m\n\u001b[0m\u001b[1;32m    518\u001b[0m                 \u001b[0mfp\u001b[0m\u001b[0;34m.\u001b[0m\u001b[0mwrite\u001b[0m\u001b[0;34m(\u001b[0m\u001b[0mformat_function\u001b[0m\u001b[0;34m(\u001b[0m\u001b[0mrecord\u001b[0m\u001b[0;34m)\u001b[0m\u001b[0;34m)\u001b[0m\u001b[0;34m\u001b[0m\u001b[0;34m\u001b[0m\u001b[0m\n\u001b[1;32m    519\u001b[0m                 \u001b[0mcount\u001b[0m \u001b[0;34m+=\u001b[0m \u001b[0;36m1\u001b[0m\u001b[0;34m\u001b[0m\u001b[0;34m\u001b[0m\u001b[0m\n",
      "\u001b[0;32m/tmp/ipykernel_117610/1086476347.py\u001b[0m in \u001b[0;36m<genexpr>\u001b[0;34m(.0)\u001b[0m\n\u001b[1;32m      1\u001b[0m \u001b[0;32mfrom\u001b[0m \u001b[0mBio\u001b[0m \u001b[0;32mimport\u001b[0m \u001b[0mSeqIO\u001b[0m\u001b[0;34m\u001b[0m\u001b[0;34m\u001b[0m\u001b[0m\n\u001b[0;32m----> 2\u001b[0;31m proteins = (make_protein_record(nuc_rec) for nuc_rec in \\\n\u001b[0m\u001b[1;32m      3\u001b[0m             SeqIO.parse(\"/home/user/Otitis/bio/sample.faa\", \"fasta\"))\n\u001b[1;32m      4\u001b[0m \u001b[0mSeqIO\u001b[0m\u001b[0;34m.\u001b[0m\u001b[0mwrite\u001b[0m\u001b[0;34m(\u001b[0m\u001b[0mproteins\u001b[0m\u001b[0;34m,\u001b[0m \u001b[0;34m\"translations.fasta\"\u001b[0m\u001b[0;34m,\u001b[0m \u001b[0;34m\"fasta\"\u001b[0m\u001b[0;34m)\u001b[0m\u001b[0;34m\u001b[0m\u001b[0;34m\u001b[0m\u001b[0m\n",
      "\u001b[0;31mNameError\u001b[0m: name 'make_protein_record' is not defined"
     ]
    }
   ],
   "source": [
    "from Bio import SeqIO\n",
    "proteins = (make_protein_record(nuc_rec) for nuc_rec in \\\n",
    "            SeqIO.parse(\"/home/user/Otitis/bio/sample.faa\", \"fasta\"))\n",
    "SeqIO.write(proteins, \"translations.fasta\", \"fasta\")"
   ]
  },
  {
   "cell_type": "code",
   "execution_count": 1,
   "metadata": {},
   "outputs": [],
   "source": [
    "import random"
   ]
  },
  {
   "cell_type": "code",
   "execution_count": 5,
   "metadata": {},
   "outputs": [
    {
     "data": {
      "text/plain": [
       "2"
      ]
     },
     "execution_count": 5,
     "metadata": {},
     "output_type": "execute_result"
    }
   ],
   "source": [
    "random.randint(1,2)"
   ]
  }
 ],
 "metadata": {
  "interpreter": {
   "hash": "363ff627f301a5d66f13a316142ba016ef620e345dd0459e9e73c2d1dd99c547"
  },
  "kernelspec": {
   "display_name": "Python 3.8.5 64-bit ('ZD2L': conda)",
   "name": "python3"
  },
  "language_info": {
   "codemirror_mode": {
    "name": "ipython",
    "version": 3
   },
   "file_extension": ".py",
   "mimetype": "text/x-python",
   "name": "python",
   "nbconvert_exporter": "python",
   "pygments_lexer": "ipython3",
   "version": "3.8.5"
  },
  "orig_nbformat": 4
 },
 "nbformat": 4,
 "nbformat_minor": 2
}
