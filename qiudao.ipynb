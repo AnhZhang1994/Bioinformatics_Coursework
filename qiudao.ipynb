{
 "cells": [
  {
   "cell_type": "code",
   "execution_count": 43,
   "metadata": {},
   "outputs": [],
   "source": [
    "from sympy import *"
   ]
  },
  {
   "cell_type": "code",
   "execution_count": 44,
   "metadata": {},
   "outputs": [],
   "source": [
    "x = symbols('x')"
   ]
  },
  {
   "cell_type": "code",
   "execution_count": 45,
   "metadata": {},
   "outputs": [],
   "source": [
    "f = (1/3)*x*(x-2)*(x-6)"
   ]
  },
  {
   "cell_type": "code",
   "execution_count": 46,
   "metadata": {},
   "outputs": [],
   "source": [
    "diff = diff(f,x)"
   ]
  },
  {
   "cell_type": "code",
   "execution_count": 47,
   "metadata": {},
   "outputs": [
    {
     "data": {
      "text/latex": [
       "$\\displaystyle 0.333333333333333 x \\left(x - 6\\right) + 0.333333333333333 x \\left(x - 2\\right) + \\left(0.333333333333333 x - 2.0\\right) \\left(x - 2\\right)$"
      ],
      "text/plain": [
       "0.333333333333333*x*(x - 6) + 0.333333333333333*x*(x - 2) + (0.333333333333333*x - 2.0)*(x - 2)"
      ]
     },
     "execution_count": 47,
     "metadata": {},
     "output_type": "execute_result"
    }
   ],
   "source": [
    "diff"
   ]
  }
 ],
 "metadata": {
  "interpreter": {
   "hash": "363ff627f301a5d66f13a316142ba016ef620e345dd0459e9e73c2d1dd99c547"
  },
  "kernelspec": {
   "display_name": "Python 3.8.5 64-bit ('ZD2L': conda)",
   "language": "python",
   "name": "python3"
  },
  "language_info": {
   "codemirror_mode": {
    "name": "ipython",
    "version": 3
   },
   "file_extension": ".py",
   "mimetype": "text/x-python",
   "name": "python",
   "nbconvert_exporter": "python",
   "pygments_lexer": "ipython3",
   "version": "3.8.5"
  },
  "orig_nbformat": 4
 },
 "nbformat": 4,
 "nbformat_minor": 2
}
