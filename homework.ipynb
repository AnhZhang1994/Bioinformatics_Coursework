{
 "cells": [
  {
   "cell_type": "markdown",
   "metadata": {},
   "source": [
    "question 1"
   ]
  },
  {
   "cell_type": "code",
   "execution_count": 1,
   "metadata": {},
   "outputs": [
    {
     "name": "stdout",
     "output_type": "stream",
     "text": [
      "ATGGAAAACAAAAAATCATTCTTCCACTTACACTTAATATCAGACTCAACAGGAGAAACATTAATGTCAGCAGGACGAGCAGTATCAGCACAATTCCACACATCAATGCCAGTAGAACACGTATACCCAATGATACGAAACCAAAAACAATTAGCACAAGTAATAGACTTAATAGACAAAGAACCAGGAATAGTATTATACACAATAGTA\n",
      "GACCAACAATTAGCAGAATTCTTAGACTTACGATGCCACGCAATAGGAGTACCATGCGTAAACGTATTAGAACCAATAATAGGAATATTCCAAACATACTTAGGAGCACCATCACGACGACGAGTAGGAGCACAACACGCATTAAACGCAGACTACTTCGCACGAATAGAAGCATTAAACTTCGCAATGGACCACGACGACGGACAAATG\n",
      "CCAGAAACATACGACGACGCAGACGTAGTAATAATAGGAATATCACGAACATCAAAAACACCAACATCAATATACTTAGCAAACCGAGGAATAAAAACAGCAAACATACCAGTAGTACCAAACGTACCATTACCAGAATCATTATACGCAGCAACACGACCATTAATAGTAGGATTAGTAGCAACATCAGACCGAATATCACAAGTACGA\n",
      "GAAAACCGAGACTTAGGAACAACAGGAGGATTCGACGGAGGACGATACACAGACCGAGCAACAATAATGGAAGAATTAAAATACGCACGAGCATTATGCGCACGAAACAACTGGCCATTAATAGACGTAACACGACGATCAATAGAAGAAACAGCAGCAGCAATATTAGCATTACGACCACGAACACGA\n",
      "ATGCCATGCGCACGAGGACGAGACAACCCAAACCGAATAATACGATCACGACAATCAATGAAACAAGAATTAATATTAGCATCATCATCAGCATCACGACAAATGTTAATGCGAAACGCAGGATTAACATTCTCAGCAATACCAGCAGACATAGACGAACGAGCATTAGACGAACAATTAGAACGAGACGGAGCATCACCAGAAGAAGTA\n",
      "GCATTAGAATTAGCACGAGCAAAAGCATTAGCAGTATCAGCATTACACCCAGAAGCATTAGTATTAGGATGCGACCAAACAATGGCATTAGGAACACGAGTATACCACAAACCAAAAAACATGGCAGAAGCAGCAACACACTTATTATCATTATCAGGAAAAGTACACCGATTAAACTCAGCAGCAGTATTAGTACACAACGGAAAAGTA\n",
      "GTATGGCAAACAGTATCATCAGCAGAATTAGCAGTACGAACATTATCAGCAGAATTCGTATCACGACACTTACAACGAGTAGGAGAAAAAGCATTATCATCAGTAGGAGCATACCAATTAGAACGAGAAGGAATACAATTATTCACATCAATAGAAGGAGACTACTTCACAATATTAGGATTACCATTATTACCATTATTATCAAAATTA\n",
      "CGAGACATGGACGTAATAGACGGA\n",
      "ATGGCATTAGGAAACTGCTTCATGCACAACCGATTATTCAAATCAGTAGCAGGAAAAGTAGTAGCATTAACAATAGGATTAATAACATTATCAGTAGCAGCAGTAGGATTCTCAACATACATACGATTAAAAGACAACATAATAACAACAGCATTACGAGACACACACGGAGCAATGCGAGGAATGGCAATATTATACGAAATGAAAGTA\n",
      "GGAGGAGTAGCATTAGAAATGGTAGACGGAGACTTAAAATCAGTAGGACGAGCATCAATAGGAACAATGCGAGACAACGACTTAGTAGACCGAACAGCAGCAGGAAACGGAGGAATAGCAACAGTATTCGAAGCAAAAGCAGGAGAATTCATACGATTAACAACAAACTTAAAAAACGAAAAAGGAGAACGAGCAGCAGGAACAAAATTA\n",
      "GCAACAGACCACCCAGCATTCGAAAAAGTATCAAAAGGAGAAGCATACTTCGGAACAGCAACATTATTCGGAACATCATACATGACAGGATACATGCCAGTAACAAACAAAACAGGAGCAACAGTAGGAATATTATTCGTAGGAGTACCAATGGACTTCTACAACGCACAAATATACTCATTACGAGACATGATGGTAGTATGCGGAGCA\n",
      "TTAGCAATGTTAGGAGTAGGATTATTAGCATACTTCGTAATAAAACGAACATTACAACCATTATCAAAATTAACAGACGCAGTAAAATCATTATCAGACGGAGACTTAGAAACACCAATACCATACGCAACAAACACAAACGAATTCGGAAACATAGCACGAGCATTAGTAATATTCCGAGAAAACGCAATAGAAAAATTAGCAATAGAA\n",
      "GGAAAATCAGCACAAGAACGATCAGCAGCAGAATCAGAACGACACCGAAACGACGCAGAAAAACAAGAATTAGACGGACAAATAGAATTCGCAGTAGGAGAAATAGCATCAGGATTAGGACGATTATCACGAGGAGACTTATCACGAACAATAGAAACACCATTCGCAGGACGATTAGACCGATTACGAACAGACTTCAACGAATCATTA\n",
      "TTAAACTTACGAGACGCATTAGGACAAATACGAGAACGAACATTAATAATACAAAACTCAGGAATAGAAATAGAACAATCATCAGTAGACTTATCAAAACGAACAGAAAACCAAGCAGCATCATTAGAAGAAACAGCAGCAGCAGTAGAAGAAATAACAGCAACAGTACGATCATCAGCAGAACGAGCACGAGAAGCAAACGAAGCAGTA\n",
      "CGAGTAACAAAACAATCAGCAGACTCATCAGGATCAGTAGTATCAAACGCAGTAGACGCAATGTCACGAATAGAAGGAGCATCACGAAAAATAGAACAAATAATAGAAGTAATAGACGACATAGCATTCCAAACAAACTTATTAGCATTAAACGCAGGAATAGAAGCAGCACGAGCAGGAGAAGCAGGAAAAGGATTCGCAGTAGTAGCA\n",
      "CAAGAAGTACGAGAATTAGCACAACGATCAGCAGACGCAGCACGAGAAATAAAACAATTAATAAACCAATCAACACACGAAGTATCATCAGGATCAAAATTAGTACAAGAAGCAGGAACAGTATTATCAGCAATATCACGACAAATAGTAACAGTATCACAACACGTAGAAACAATAGCAACAGCAACACAAGACCAATCATCAGCATTA\n",
      "CACAACGTAAACGGATCAGTAAACCAAATGGACCAAATGACACAACAAAACGCAGCATTAGCAGAACAATCATCAGCAGCATCACGAGTATTATCAGGAGAAGTAGAAGCATTATTAGACTTAGTACAACGATTCCAAATGGAACAAGGATCAGCAGCAGGATCAGGACGATTAAACCGAGCAGCA\n",
      "GCAGCATCAGGATCAGTAGACGGAATATACTTAGCA\n",
      "TACATGAAAAACAACGACCCACGAATAGCAATGATGCAATCATTATCATTACCATTCTTAGTACACGGACGATCAGTAGGAGTAGAAGAAGACTACCCATACTTAGACGTAGACAACGAAGGAGCATTCCACGACGCAACACAATTATTATTACAATTAGGACACACACGAATAGGATTATTAAACGGACCAGAAGGATACGACTTCACA\n",
      "TACCGACGATGCTTAGGAGTAGAAAAAGCATTAGCAGCAAACGGATTATCATTACACCCAGACAACAAACGACACTCATCAATGACAGACGAAGAAGGATACTTAGGAATGGAAGCATTATTATCACGACCAGAAAAACCAACAGCAATATTATGCGCATCAACAGCATTAGCATTAGGAGCAATACGATCATTAAACCAACGAGGATTA\n",
      "AAACCAGGACGAGACATATCATTAATAGCACACGACGACGTATTACCATTATTAAAACCAGACAACTTCTCAGTACCATTAACAACAACACGATCATCATTACGAGCAGCAGGAGTACGAGTAGGACAACGATTAATAAACCGAATAAAATTAAACCAAACAGAACCACACCAAGAATTATGGAAAGCAGAATTAGTAGTACGAGCATCA\n",
      "ACAGGACCAGCACCAAAAGCA\n",
      "ATGCGAAAAACATTATTAGCAACAGCAGCATCAATGGTATTATTATCAGGATCAGTATTCGCAGCAGACTTAAAATTCGCACCAGGAGCAGACGCAAAATTCAACTGGAAATCATACGAAGACTTCAAAGCAGCACACGCAGACTTAAAAGGACAAACATTAACAATATTCGGACCATGGCGAGGAGAAGACGAAGCATTATTCCAATCA\n",
      "GTATTAGCATACTTCGCAGACGCAACAGGAGTAAACGTACGATACTCATCATCAGAAAACTACGAACAACAAATAGTAATAGACACACAAGCAGGATCACCACCAAACATAGCAATATTACCACAACCAGGATTATTAGCAGACTTAGCAGCAAAAGGATTCTTAGTACCATTAGGAGACGACACAGCAAAATGGGTAGAAGAAAACTAC\n",
      "GGAGCAGGAAAATCATGGGTAGACTTAGGATCATACAAAGGAAAAGACGGAAACAAAGCATACTTCGCATTCCCATTCAAAGCAGACGTAAAATCATTAGTATGGTACGTACCAGAAAACTTCGAAGAAGCAGGATACAAAGTACCAGAATCAATGGAAGACTTATTAAAATTAACAGACCAAATAGTAGCAGACGGAGGAACACCATGG\n",
      "TGCATAGGATTAGGATCAGGAGGAGCAACAGGATGGCCAGCAACAGACTGGGTAGAAGACTTAATGTTACGAACACAACCATTAGACGTATACCAAAAATGGACAACAAACGAAGTAAAATTCACAGACCCAGCAGTAGTAGCAGCAATAAACGAATTCGGAAAATTCGCAAAAAACGAAAAATACGTATCAGGAGGAGTAGCAGCAGTA\n",
      "GCATCAACAGACTTCCGAGACTCACCAAAAGGATTATTCGACATACCACCAAAATGCTACTTACACCACCAAGCATCATTCATACCATCATTCTTCCCAGAAGGAACAAAAGTAGGAACAGACGCAGACTTCTTCTACATGCCAACATACGCATCAAAACCAGAATTAGGAAAACCAGTATTAGGAGCAGGAACATTAGTAACAGTAACA\n",
      "AAAGAAGCACCAGCAGCAAAAGCATTCGTAGAATTCTTAAAAACACCAATAGCACACGAAGTATGGATGGCACAATCATCATTCTTAACACCATACAAAGGAGTAAACGTAGACACATACGCAAACGAACAAATGAAACGACAAGGAGAAATATTAACAACAGCAACAACATTCGGATTCGACGGATCAGACTTAATGCCAGGAAAAATA\n",
      "GGAGCAGGAGCATTCTGGACAGGAATGATAGACTTCGTAGGAGGAAAATCAGCAGACCAAGTAGCAGCAGACATACAAAAAGCATGGGACGGATTAAAA\n"
     ]
    }
   ],
   "source": [
    "import re\n",
    "\n",
    "\n",
    "def cut_text(text, length):\n",
    "    arr = re.findall('.{'+str(length)+'}', text)\n",
    "    arr.append(text[(len(arr)*length):])\n",
    "    return arr\n",
    "\n",
    "\n",
    "def read():\n",
    "    table = {\n",
    "        'I': 'ATA', 'M': 'ATG', 'T': 'ACA',\n",
    "        'N': 'AAC', 'K': 'AAA', 'S': 'AGC',\n",
    "        'R': 'AGG', 'L': 'CTA', 'P': 'CCA',\n",
    "        'H': 'CAC', 'Q': 'CAA', 'R': 'CGA',\n",
    "        'V': 'GTA', 'A': 'GCA', 'D': 'GAC',\n",
    "        'E': 'GAA', 'G': 'GGA', 'S': 'TCA',\n",
    "        'F': 'TTC', 'L': 'TTA', 'Y': 'TAC',\n",
    "        'C': 'TGC', 'W': 'TGG'\n",
    "    }\n",
    "\n",
    "    file_reader = open(\"/home/user/Otitis/bio/sample.faa\", 'r', encoding=\"utf-8\")\n",
    "    line = file_reader.readline()\n",
    "    line_count = 0\n",
    "    replaced_line = \"\"\n",
    "\n",
    "    while line:\n",
    "        line_count = line_count + 1\n",
    "        if line_count > 1:\n",
    "            line_arr = cut_text(line, 1)\n",
    "            for letter in line_arr:\n",
    "                for key in table:\n",
    "                   if str(letter).__eq__(key):\n",
    "                        replaced_letter = table[letter]\n",
    "                        replaced_line = replaced_line +replaced_letter\n",
    "            print(replaced_line)\n",
    "            write(replaced_line)\n",
    "            replaced_line = \"\"\n",
    "        else:\n",
    "            write(line)\n",
    "        line = file_reader.readline()\n",
    "    file_reader.close()\n",
    "\n",
    "\n",
    "def write(str):\n",
    "    file = open(\"./replaced.txt\", 'a+')\n",
    "    file.write(str+\"\\n\")\n",
    "    file.close()\n",
    "\n",
    "\n",
    "if __name__ == \"__main__\":\n",
    "    read()\n"
   ]
  },
  {
   "cell_type": "markdown",
   "metadata": {},
   "source": [
    "question 2"
   ]
  },
  {
   "cell_type": "code",
   "execution_count": 2,
   "metadata": {},
   "outputs": [],
   "source": [
    "with open('/home/user/Otitis/bio/replaced.txt', 'r') as fin:\n",
    "    data = fin.read().splitlines(True)\n",
    "with open('/home/user/Otitis/bio/replaced.txt', 'w') as fout:\n",
    "    fout.writelines(data[1:])"
   ]
  },
  {
   "cell_type": "code",
   "execution_count": 3,
   "metadata": {},
   "outputs": [
    {
     "name": "stdout",
     "output_type": "stream",
     "text": [
      " the GC contents in percent is: 38.84%\n"
     ]
    }
   ],
   "source": [
    "file = open(\"/home/user/Otitis/bio/replaced.txt\", \"r\")\n",
    "data = file.read()\n",
    "number_of_characters = len(data)\n",
    "float(len(data))\n",
    "percent = \"%.2f%%\" % ((data.count('C')+data.count('G'))/float(len(data))*100)\n",
    "print(' the GC contents in percent is:',percent)\n"
   ]
  },
  {
   "cell_type": "markdown",
   "metadata": {},
   "source": [
    "question3"
   ]
  },
  {
   "cell_type": "code",
   "execution_count": null,
   "metadata": {},
   "outputs": [],
   "source": []
  },
  {
   "cell_type": "code",
   "execution_count": 6,
   "metadata": {},
   "outputs": [
    {
     "name": "stdout",
     "output_type": "stream",
     "text": [
      "GC contents percentage: 0.7962085308056872\n",
      "the CpG island's location is in line 4\n",
      "ATGCCATGCGCACGAGGACGAGACAACCCAAACCGAATAATACGATCACGACAATCAATGAAACAAGAATTAATATTAGCATCATCATCAGCATCACGACAAATGTTAATGCGAAACGCAGGATTAACATTCTCAGCAATACCAGCAGACATAGACGAACGAGCATTAGACGAACAATTAGAACGAGACGGAGCATCACCAGAAGAAGTA\n",
      "\n"
     ]
    }
   ],
   "source": [
    "import re\n",
    "\n",
    "\n",
    "def cut_text(text, length):\n",
    "    arr = re.findall('.{'+str(length)+'}', text)\n",
    "    arr.append(text[(len(arr)*length):])\n",
    "    return arr\n",
    "\n",
    "\n",
    "def read():\n",
    "    file_reader = open(\"/home/user/Otitis/bio/replaced.txt\", 'r', encoding=\"utf-8\")\n",
    "    line = file_reader.readline()\n",
    "    line_count = 0\n",
    "    G_count = 0\n",
    "    C_count = 0\n",
    "\n",
    "    while line:\n",
    "        line_count = line_count + 1\n",
    "        if line_count > 1:\n",
    "            line_arr = cut_text(line, 1)\n",
    "            arr_len = len(line_arr)\n",
    "            if arr_len > 200:\n",
    "                for letter in line_arr:\n",
    "                    if str(letter).__eq__('G'):\n",
    "                        G_count = G_count + 1\n",
    "                    if str(letter).__eq__('C'):\n",
    "                        C_count = C_count + 1\n",
    "                rate = (G_count + C_count)/arr_len\n",
    "                if rate > 0.5:\n",
    "                    print('GC contents percentage:',rate)\n",
    "                    print(\"the CpG island's location is in line\",line_count)\n",
    "                    print(line)\n",
    "                    return\n",
    "        line = file_reader.readline()\n",
    "    file_reader.close()\n",
    "\n",
    "\n",
    "if __name__ == \"__main__\":\n",
    "    read()"
   ]
  }
 ],
 "metadata": {
  "interpreter": {
   "hash": "363ff627f301a5d66f13a316142ba016ef620e345dd0459e9e73c2d1dd99c547"
  },
  "kernelspec": {
   "display_name": "Python 3.8.5 64-bit ('ZD2L': conda)",
   "name": "python3"
  },
  "language_info": {
   "codemirror_mode": {
    "name": "ipython",
    "version": 3
   },
   "file_extension": ".py",
   "mimetype": "text/x-python",
   "name": "python",
   "nbconvert_exporter": "python",
   "pygments_lexer": "ipython3",
   "version": "3.8.5"
  },
  "orig_nbformat": 4
 },
 "nbformat": 4,
 "nbformat_minor": 2
}
