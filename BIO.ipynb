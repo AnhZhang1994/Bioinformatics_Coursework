{
 "cells": [
  {
   "cell_type": "code",
   "execution_count": 6,
   "metadata": {},
   "outputs": [],
   "source": [
    "from Bio import SeqIO\n",
    "from Bio.Seq import Seq\n"
   ]
  },
  {
   "cell_type": "code",
   "execution_count": 8,
   "metadata": {},
   "outputs": [
    {
     "name": "stdout",
     "output_type": "stream",
     "text": [
      "Collecting dnachisel\n",
      "  Downloading dnachisel-3.2.8-py3-none-any.whl (146 kB)\n",
      "\u001b[K     |████████████████████████████████| 146 kB 6.4 MB/s \n",
      "\u001b[?25hCollecting python-codon-tables\n",
      "  Downloading python_codon_tables-0.1.10-py3-none-any.whl (15 kB)\n",
      "Collecting docopt\n",
      "  Downloading docopt-0.6.2.tar.gz (25 kB)\n",
      "Requirement already satisfied: Biopython in /home/user/anaconda3/envs/ZD2L/lib/python3.8/site-packages (from dnachisel) (1.79)\n",
      "Requirement already satisfied: numpy in /home/user/anaconda3/envs/ZD2L/lib/python3.8/site-packages (from dnachisel) (1.21.2)\n",
      "Collecting flametree\n",
      "  Downloading flametree-0.1.11-py3-none-any.whl (9.5 kB)\n",
      "Collecting proglog\n",
      "  Downloading proglog-0.1.9.tar.gz (10 kB)\n",
      "Requirement already satisfied: tqdm in /home/user/anaconda3/envs/ZD2L/lib/python3.8/site-packages (from proglog->dnachisel) (4.62.3)\n",
      "Building wheels for collected packages: docopt, proglog\n",
      "  Building wheel for docopt (setup.py) ... \u001b[?25ldone\n",
      "\u001b[?25h  Created wheel for docopt: filename=docopt-0.6.2-py2.py3-none-any.whl size=13724 sha256=98454bc83e74c5cbda9f392830f9d4ef222804597cd91bf0a6edaa247d6ca4e4\n",
      "  Stored in directory: /home/user/.cache/pip/wheels/56/ea/58/ead137b087d9e326852a851351d1debf4ada529b6ac0ec4e8c\n",
      "  Building wheel for proglog (setup.py) ... \u001b[?25ldone\n",
      "\u001b[?25h  Created wheel for proglog: filename=proglog-0.1.9-py3-none-any.whl size=6157 sha256=6ff934d031e51d246f99e8cf0dfc9bd43be17b5e0b0a9d9acc3c50f8223c1d2d\n",
      "  Stored in directory: /home/user/.cache/pip/wheels/22/82/ff/56950e4b223a69eda3a2bdeaef2ae4b274c3d1ced9b5814c99\n",
      "Successfully built docopt proglog\n",
      "Installing collected packages: python-codon-tables, proglog, flametree, docopt, dnachisel\n",
      "Successfully installed dnachisel-3.2.8 docopt-0.6.2 flametree-0.1.11 proglog-0.1.9 python-codon-tables-0.1.10\n"
     ]
    }
   ],
   "source": [
    "!pip install dnachisel\n"
   ]
  },
  {
   "cell_type": "code",
   "execution_count": 11,
   "metadata": {},
   "outputs": [],
   "source": [
    "inputfile =\"/home/user/Otitis/bio/sample.faa\"\n",
    "f = open(inputfile, \"r\")\n",
    "seq = f.read()\n",
    "  \n",
    "seq = seq.replace(\"\\n\", \"\")\n",
    "seq = seq.replace(\"\\r\", \"\")"
   ]
  },
  {
   "cell_type": "code",
   "execution_count": 12,
   "metadata": {},
   "outputs": [],
   "source": [
    "def translate(seq):\n",
    "\t\n",
    "\ttable = {\n",
    "\t\t'ATA':'I', 'ATC':'I', 'ATT':'I', 'ATG':'M',\n",
    "\t\t'ACA':'T', 'ACC':'T', 'ACG':'T', 'ACT':'T',\n",
    "\t\t'AAC':'N', 'AAT':'N', 'AAA':'K', 'AAG':'K',\n",
    "\t\t'AGC':'S', 'AGT':'S', 'AGA':'R', 'AGG':'R',\t\t\t\t\n",
    "\t\t'CTA':'L', 'CTC':'L', 'CTG':'L', 'CTT':'L',\n",
    "\t\t'CCA':'P', 'CCC':'P', 'CCG':'P', 'CCT':'P',\n",
    "\t\t'CAC':'H', 'CAT':'H', 'CAA':'Q', 'CAG':'Q',\n",
    "\t\t'CGA':'R', 'CGC':'R', 'CGG':'R', 'CGT':'R',\n",
    "\t\t'GTA':'V', 'GTC':'V', 'GTG':'V', 'GTT':'V',\n",
    "\t\t'GCA':'A', 'GCC':'A', 'GCG':'A', 'GCT':'A',\n",
    "\t\t'GAC':'D', 'GAT':'D', 'GAA':'E', 'GAG':'E',\n",
    "\t\t'GGA':'G', 'GGC':'G', 'GGG':'G', 'GGT':'G',\n",
    "\t\t'TCA':'S', 'TCC':'S', 'TCG':'S', 'TCT':'S',\n",
    "\t\t'TTC':'F', 'TTT':'F', 'TTA':'L', 'TTG':'L',\n",
    "\t\t'TAC':'Y', 'TAT':'Y', 'TAA':'_', 'TAG':'_',\n",
    "\t\t'TGC':'C', 'TGT':'C', 'TGA':'_', 'TGG':'W',\n",
    "\t}\n",
    "\tprotein =\"\"\n",
    "\tif len(seq)%3 == 0:\n",
    "\t\tfor i in range(0, len(seq), 3):\n",
    "\t\t\tcodon = seq[i:i + 3]\n",
    "\t\t\tprotein+= table[codon]\n",
    "\treturn protein\n"
   ]
  },
  {
   "cell_type": "code",
   "execution_count": 13,
   "metadata": {},
   "outputs": [],
   "source": [
    "def read_seq(inputfile):\n",
    "\twith open(inputfile, \"r\") as f:\n",
    "\t\tseq = f.read()\n",
    "\tseq = seq.replace(\"\\n\", \"\")\n",
    "\tseq = seq.replace(\"\\r\", \"\")\n",
    "\treturn seq\n"
   ]
  },
  {
   "cell_type": "code",
   "execution_count": 14,
   "metadata": {},
   "outputs": [
    {
     "ename": "FileNotFoundError",
     "evalue": "[Errno 2] No such file or directory: 'amino_acid_sequence_original.txt'",
     "output_type": "error",
     "traceback": [
      "\u001b[0;31m---------------------------------------------------------------------------\u001b[0m",
      "\u001b[0;31mFileNotFoundError\u001b[0m                         Traceback (most recent call last)",
      "\u001b[0;32m/tmp/ipykernel_115275/586584858.py\u001b[0m in \u001b[0;36m<module>\u001b[0;34m\u001b[0m\n\u001b[1;32m     42\u001b[0m         \u001b[0;32mreturn\u001b[0m \u001b[0mseq\u001b[0m\u001b[0;34m\u001b[0m\u001b[0;34m\u001b[0m\u001b[0m\n\u001b[1;32m     43\u001b[0m \u001b[0;34m\u001b[0m\u001b[0m\n\u001b[0;32m---> 44\u001b[0;31m \u001b[0mprt\u001b[0m \u001b[0;34m=\u001b[0m \u001b[0mread_seq\u001b[0m\u001b[0;34m(\u001b[0m\u001b[0;34m\"amino_acid_sequence_original.txt\"\u001b[0m\u001b[0;34m)\u001b[0m\u001b[0;34m\u001b[0m\u001b[0;34m\u001b[0m\u001b[0m\n\u001b[0m\u001b[1;32m     45\u001b[0m \u001b[0mdna\u001b[0m \u001b[0;34m=\u001b[0m \u001b[0mread_seq\u001b[0m\u001b[0;34m(\u001b[0m\u001b[0;34m\"DNA_sequence_original.txt\"\u001b[0m\u001b[0;34m)\u001b[0m\u001b[0;34m\u001b[0m\u001b[0;34m\u001b[0m\u001b[0m\n\u001b[1;32m     46\u001b[0m \u001b[0;34m\u001b[0m\u001b[0m\n",
      "\u001b[0;32m/tmp/ipykernel_115275/586584858.py\u001b[0m in \u001b[0;36mread_seq\u001b[0;34m(inputfile)\u001b[0m\n\u001b[1;32m     36\u001b[0m         \u001b[0;32mreturn\u001b[0m \u001b[0mprotein\u001b[0m\u001b[0;34m\u001b[0m\u001b[0;34m\u001b[0m\u001b[0m\n\u001b[1;32m     37\u001b[0m \u001b[0;32mdef\u001b[0m \u001b[0mread_seq\u001b[0m\u001b[0;34m(\u001b[0m\u001b[0minputfile\u001b[0m\u001b[0;34m)\u001b[0m\u001b[0;34m:\u001b[0m\u001b[0;34m\u001b[0m\u001b[0;34m\u001b[0m\u001b[0m\n\u001b[0;32m---> 38\u001b[0;31m         \u001b[0;32mwith\u001b[0m \u001b[0mopen\u001b[0m\u001b[0;34m(\u001b[0m\u001b[0minputfile\u001b[0m\u001b[0;34m,\u001b[0m \u001b[0;34m\"r\"\u001b[0m\u001b[0;34m)\u001b[0m \u001b[0;32mas\u001b[0m \u001b[0mf\u001b[0m\u001b[0;34m:\u001b[0m\u001b[0;34m\u001b[0m\u001b[0;34m\u001b[0m\u001b[0m\n\u001b[0m\u001b[1;32m     39\u001b[0m                 \u001b[0mseq\u001b[0m \u001b[0;34m=\u001b[0m \u001b[0mf\u001b[0m\u001b[0;34m.\u001b[0m\u001b[0mread\u001b[0m\u001b[0;34m(\u001b[0m\u001b[0;34m)\u001b[0m\u001b[0;34m\u001b[0m\u001b[0;34m\u001b[0m\u001b[0m\n\u001b[1;32m     40\u001b[0m         \u001b[0mseq\u001b[0m \u001b[0;34m=\u001b[0m \u001b[0mseq\u001b[0m\u001b[0;34m.\u001b[0m\u001b[0mreplace\u001b[0m\u001b[0;34m(\u001b[0m\u001b[0;34m\"\\n\"\u001b[0m\u001b[0;34m,\u001b[0m \u001b[0;34m\"\"\u001b[0m\u001b[0;34m)\u001b[0m\u001b[0;34m\u001b[0m\u001b[0;34m\u001b[0m\u001b[0m\n",
      "\u001b[0;31mFileNotFoundError\u001b[0m: [Errno 2] No such file or directory: 'amino_acid_sequence_original.txt'"
     ]
    }
   ],
   "source": [
    "# Python program to convert\n",
    "# altered DNA to protein\n",
    "\n",
    "inputfile =\"/home/user/Otitis/bio/sample.faa\"\n",
    "f = open(inputfile, \"r\")\n",
    "seq = f.read()\n",
    "\n",
    "seq = seq.replace(\"\\n\", \"\")\n",
    "seq = seq.replace(\"\\r\", \"\")\n",
    "\n",
    "def translate(seq):\n",
    "\t\n",
    "\ttable = {\n",
    "\t\t'ATA':'I', 'ATC':'I', 'ATT':'I', 'ATG':'M',\n",
    "\t\t'ACA':'T', 'ACC':'T', 'ACG':'T', 'ACT':'T',\n",
    "\t\t'AAC':'N', 'AAT':'N', 'AAA':'K', 'AAG':'K',\n",
    "\t\t'AGC':'S', 'AGT':'S', 'AGA':'R', 'AGG':'R',\t\t\t\t\n",
    "\t\t'CTA':'L', 'CTC':'L', 'CTG':'L', 'CTT':'L',\n",
    "\t\t'CCA':'P', 'CCC':'P', 'CCG':'P', 'CCT':'P',\n",
    "\t\t'CAC':'H', 'CAT':'H', 'CAA':'Q', 'CAG':'Q',\n",
    "\t\t'CGA':'R', 'CGC':'R', 'CGG':'R', 'CGT':'R',\n",
    "\t\t'GTA':'V', 'GTC':'V', 'GTG':'V', 'GTT':'V',\n",
    "\t\t'GCA':'A', 'GCC':'A', 'GCG':'A', 'GCT':'A',\n",
    "\t\t'GAC':'D', 'GAT':'D', 'GAA':'E', 'GAG':'E',\n",
    "\t\t'GGA':'G', 'GGC':'G', 'GGG':'G', 'GGT':'G',\n",
    "\t\t'TCA':'S', 'TCC':'S', 'TCG':'S', 'TCT':'S',\n",
    "\t\t'TTC':'F', 'TTT':'F', 'TTA':'L', 'TTG':'L',\n",
    "\t\t'TAC':'Y', 'TAT':'Y', 'TAA':'_', 'TAG':'_',\n",
    "\t\t'TGC':'C', 'TGT':'C', 'TGA':'_', 'TGG':'W',\n",
    "\t}\n",
    "\tprotein =\"\"\n",
    "\tif len(seq)%3 == 0:\n",
    "\t\tfor i in range(0, len(seq), 3):\n",
    "\t\t\tcodon = seq[i:i + 3]\n",
    "\t\t\tprotein+= table[codon]\n",
    "\treturn protein\n",
    "def read_seq(inputfile):\n",
    "\twith open(inputfile, \"r\") as f:\n",
    "\t\tseq = f.read()\n",
    "\tseq = seq.replace(\"\\n\", \"\")\n",
    "\tseq = seq.replace(\"\\r\", \"\")\n",
    "\treturn seq\n",
    "\n",
    "prt = read_seq(\"amino_acid_sequence_original.txt\")\n",
    "dna = read_seq(\"DNA_sequence_original.txt\")\n",
    "\n",
    "\n",
    "p = translate(dna[20:935])\n",
    "p == prt\n"
   ]
  },
  {
   "cell_type": "code",
   "execution_count": null,
   "metadata": {},
   "outputs": [
    {
     "ename": "Error",
     "evalue": "Session cannot generate requests",
     "output_type": "error",
     "traceback": [
      "Error: Session cannot generate requests",
      "at w.executeCodeCell (/home/user/.vscode-server/extensions/ms-toolsai.jupyter-2021.9.1101343141/out/client/extension.js:52:301180)",
      "at w.execute (/home/user/.vscode-server/extensions/ms-toolsai.jupyter-2021.9.1101343141/out/client/extension.js:52:300551)",
      "at w.start (/home/user/.vscode-server/extensions/ms-toolsai.jupyter-2021.9.1101343141/out/client/extension.js:52:296215)",
      "at async t.CellExecutionQueue.executeQueuedCells (/home/user/.vscode-server/extensions/ms-toolsai.jupyter-2021.9.1101343141/out/client/extension.js:52:310950)",
      "at async t.CellExecutionQueue.start (/home/user/.vscode-server/extensions/ms-toolsai.jupyter-2021.9.1101343141/out/client/extension.js:52:310490)"
     ]
    }
   ],
   "source": [
    "fname ='/home/user/Otitis/bio/sample.faa'\n",
    "P= open(fname)\n",
    "pp = P.readlines()\n",
    "\n",
    "print(*pp,sep='')\n",
    "P.close\n",
    "exit()"
   ]
  },
  {
   "cell_type": "code",
   "execution_count": null,
   "metadata": {},
   "outputs": [
    {
     "ename": "Error",
     "evalue": "Session cannot generate requests",
     "output_type": "error",
     "traceback": [
      "Error: Session cannot generate requests",
      "at w.executeCodeCell (/home/user/.vscode-server/extensions/ms-toolsai.jupyter-2021.9.1101343141/out/client/extension.js:52:301180)",
      "at w.execute (/home/user/.vscode-server/extensions/ms-toolsai.jupyter-2021.9.1101343141/out/client/extension.js:52:300551)",
      "at w.start (/home/user/.vscode-server/extensions/ms-toolsai.jupyter-2021.9.1101343141/out/client/extension.js:52:296215)",
      "at async t.CellExecutionQueue.executeQueuedCells (/home/user/.vscode-server/extensions/ms-toolsai.jupyter-2021.9.1101343141/out/client/extension.js:52:310950)",
      "at async t.CellExecutionQueue.start (/home/user/.vscode-server/extensions/ms-toolsai.jupyter-2021.9.1101343141/out/client/extension.js:52:310490)"
     ]
    }
   ],
   "source": [
    "proteinfilename = '/home/user/Otitis/bio/sample.faa'\n",
    "  \n",
    "# First we have to \"open\" the file\n",
    "PROTEINFILE = open(proteinfilename)\n",
    "  \n",
    "# Read the protein sequence data from the file, and store it\n",
    "# into the array variable proteins\n",
    "proteins = PROTEINFILE.readlines()\n",
    "  \n",
    "# Print the protein onto the screen\n",
    "print(*proteins, sep='')\n",
    "  \n",
    "# Close the file.\n",
    "PROTEINFILE.close()\n",
    "  \n",
    "exit()"
   ]
  },
  {
   "cell_type": "code",
   "execution_count": 10,
   "metadata": {},
   "outputs": [
    {
     "ename": "FileNotFoundError",
     "evalue": "[Errno 2] No such file or directory: 'DNA_sequence_original.txt'",
     "output_type": "error",
     "traceback": [
      "\u001b[0;31m---------------------------------------------------------------------------\u001b[0m",
      "\u001b[0;31mFileNotFoundError\u001b[0m                         Traceback (most recent call last)",
      "\u001b[0;32m/tmp/ipykernel_116947/797147346.py\u001b[0m in \u001b[0;36m<module>\u001b[0;34m\u001b[0m\n\u001b[1;32m     35\u001b[0m \u001b[0;34m\u001b[0m\u001b[0m\n\u001b[1;32m     36\u001b[0m \u001b[0mprt\u001b[0m \u001b[0;34m=\u001b[0m \u001b[0mread_seq\u001b[0m\u001b[0;34m(\u001b[0m\u001b[0;34m\"/home/user/Otitis/bio/sample.faa\"\u001b[0m\u001b[0;34m)\u001b[0m\u001b[0;34m\u001b[0m\u001b[0;34m\u001b[0m\u001b[0m\n\u001b[0;32m---> 37\u001b[0;31m \u001b[0mdna\u001b[0m \u001b[0;34m=\u001b[0m \u001b[0mread_seq\u001b[0m\u001b[0;34m(\u001b[0m\u001b[0;34m\"DNA_sequence_original.txt\"\u001b[0m\u001b[0;34m)\u001b[0m\u001b[0;34m\u001b[0m\u001b[0;34m\u001b[0m\u001b[0m\n\u001b[0m\u001b[1;32m     38\u001b[0m \u001b[0;34m\u001b[0m\u001b[0m\n\u001b[1;32m     39\u001b[0m \u001b[0;34m\u001b[0m\u001b[0m\n",
      "\u001b[0;32m/tmp/ipykernel_116947/797147346.py\u001b[0m in \u001b[0;36mread_seq\u001b[0;34m(inputfile)\u001b[0m\n\u001b[1;32m     28\u001b[0m         \u001b[0;32mreturn\u001b[0m \u001b[0mprotein\u001b[0m\u001b[0;34m\u001b[0m\u001b[0;34m\u001b[0m\u001b[0m\n\u001b[1;32m     29\u001b[0m \u001b[0;32mdef\u001b[0m \u001b[0mread_seq\u001b[0m\u001b[0;34m(\u001b[0m\u001b[0minputfile\u001b[0m\u001b[0;34m)\u001b[0m\u001b[0;34m:\u001b[0m\u001b[0;34m\u001b[0m\u001b[0;34m\u001b[0m\u001b[0m\n\u001b[0;32m---> 30\u001b[0;31m         \u001b[0;32mwith\u001b[0m \u001b[0mopen\u001b[0m\u001b[0;34m(\u001b[0m\u001b[0minputfile\u001b[0m\u001b[0;34m,\u001b[0m \u001b[0;34m\"r\"\u001b[0m\u001b[0;34m)\u001b[0m \u001b[0;32mas\u001b[0m \u001b[0mf\u001b[0m\u001b[0;34m:\u001b[0m\u001b[0;34m\u001b[0m\u001b[0;34m\u001b[0m\u001b[0m\n\u001b[0m\u001b[1;32m     31\u001b[0m                 \u001b[0mseq\u001b[0m \u001b[0;34m=\u001b[0m \u001b[0mf\u001b[0m\u001b[0;34m.\u001b[0m\u001b[0mread\u001b[0m\u001b[0;34m(\u001b[0m\u001b[0;34m)\u001b[0m\u001b[0;34m\u001b[0m\u001b[0;34m\u001b[0m\u001b[0m\n\u001b[1;32m     32\u001b[0m         \u001b[0mseq\u001b[0m \u001b[0;34m=\u001b[0m \u001b[0mseq\u001b[0m\u001b[0;34m.\u001b[0m\u001b[0mreplace\u001b[0m\u001b[0;34m(\u001b[0m\u001b[0;34m\"\\n\"\u001b[0m\u001b[0;34m,\u001b[0m \u001b[0;34m\"\"\u001b[0m\u001b[0;34m)\u001b[0m\u001b[0;34m\u001b[0m\u001b[0;34m\u001b[0m\u001b[0m\n",
      "\u001b[0;31mFileNotFoundError\u001b[0m: [Errno 2] No such file or directory: 'DNA_sequence_original.txt'"
     ]
    }
   ],
   "source": [
    "# Python program to convert\n",
    "# altered DNA to protein\n",
    "\n",
    "inputfile =\"/home/user/Otitis/bio/sample.faa\"\n",
    "f = open(inputfile, \"r\")\n",
    "seq = f.read()\n",
    "\n",
    "seq = seq.replace(\"\\n\", \"\")\n",
    "seq = seq.replace(\"\\r\", \"\")\n",
    "\n",
    "def translate(seq):\n",
    "\t\n",
    "\ttable = {\n",
    "\t\t'I':'ATA','M':'ATG','T':'ACA',\n",
    "\t\t'N':'AAC','K':'AAA','S':'AGC',\n",
    "\t\t'R':'AGG','L':'CTA','P':'CCA',\n",
    "\t\t'H':'CAC','Q':'CAA','R':'CGA',\n",
    "\t\t'V':'GTA','A':'GCA','D':'GAC',\n",
    "\t\t'E':'GAA','G':'GGA','S':'TCA',\n",
    "\t\t'F':'TTC','L':'TTA','Y':'TAC',\n",
    "\t\t'C':'TGC','W':'TGG'\n",
    "\t}\n",
    "\tprotein =\"\"\n",
    "\tif len(seq)%3 == 0:\n",
    "\t\tfor i in range(0, len(seq), 3):\n",
    "\t\t\tcodon = seq[i:i + 3]\n",
    "\t\t\tprotein+= table[codon]\n",
    "\treturn protein\n",
    "def read_seq(inputfile):\n",
    "\twith open(inputfile, \"r\") as f:\n",
    "\t\tseq = f.read()\n",
    "\tseq = seq.replace(\"\\n\", \"\")\n",
    "\tseq = seq.replace(\"\\r\", \"\")\n",
    "\treturn seq\n",
    "\n",
    "prt = read_seq(\"/home/user/Otitis/bio/sample.faa\")\n",
    "dna = read_seq(\"DNA_sequence_original.txt\")\n",
    "\n",
    "\n",
    "p = translate(dna[20:935])\n",
    "p == prt\n"
   ]
  },
  {
   "cell_type": "code",
   "execution_count": 9,
   "metadata": {},
   "outputs": [
    {
     "name": "stdout",
     "output_type": "stream",
     "text": [
      "DNA Sequence:  MENKKSFFHLHLISDSTGETLMSAGRAVSAQFHTSMPVEHVYPMIRNQKQLAQVIDLIDKEPGIVLYTIV\n",
      "DQQLAEFLDLRCHAIGVPCVNVLEPIIGIFQTYLGAPSRRRVGAQHALNADYFARIEALNFAMDHDDGQM\n",
      "PETYDDADVVIIGISRTSKTPTSIYLANRGIKTANIPVVPNVPLPESLYAATRPLIVGLVATSDRISQVR\n",
      "ENRDLGTTGGFDGGRYTDRATIMEELKYARALCARNNWPLIDVTRRSIEETAAAILALRPRTR\n",
      "MPCARGRDNPNRIIRSRQSMKQELILASSSASRQMLMRNAGLTFSAIPADIDERALDEQLERDGASPEEV\n",
      "ALELARAKALAVSALHPEALVLGCDQTMALGTRVYHKPKNMAEAATHLLSLSGKVHRLNSAAVLVHNGKV\n",
      "VWQTVSSAELAVRTLSAEFVSRHLQRVGEKALSSVGAYQLEREGIQLFTSIEGDYFTILGLPLLPLLSKL\n",
      "RDMDVIDG\n",
      "MALGNCFMHNRLFKSVAGKVVALTIGLITLSVAAVGFSTYIRLKDNIITTALRDTHGAMRGMAILYEMKV\n",
      "GGVALEMVDGDLKSVGRASIGTMRDNDLVDRTAAGNGGIATVFEAKAGEFIRLTTNLKNEKGERAAGTKL\n",
      "ATDHPAFEKVSKGEAYFGTATLFGTSYMTGYMPVTNKTGATVGILFVGVPMDFYNAQIYSLRDMMVVCGA\n",
      "LAMLGVGLLAYFVIKRTLQPLSKLTDAVKSLSDGDLETPIPYATNTNEFGNIARALVIFRENAIEKLAIE\n",
      "GKSAQERSAAESERHRNDAEKQELDGQIEFAVGEIASGLGRLSRGDLSRTIETPFAGRLDRLRTDFNESL\n",
      "LNLRDALGQIRERTLIIQNSGIEIEQSSVDLSKRTENQAASLEETAAAVEEITATVRSSAERAREANEAV\n",
      "RVTKQSADSSGSVVSNAVDAMSRIEGASRKIEQIIEVIDDIAFQTNLLALNAGIEAARAGEAGKGFAVVA\n",
      "QEVRELAQRSADAAREIKQLINQSTHEVSSGSKLVQEAGTVLSAISRQIVTVSQHVETIATATQDQSSAL\n",
      "HNVNGSVNQMDQMTQQNAALAEQSSAASRVLSGEVEALLDLVQRFQMEQGSAAGSGRLNRAA\n",
      "AASGSVDGIYLA\n",
      "YMKNNDPRIAMMQSLSLPFLVHGRSVGVEEDYPYLDVDNEGAFHDATQLLLQLGHTRIGLLNGPEGYDFT\n",
      "YRRCLGVEKALAANGLSLHPDNKRHSSMTDEEGYLGMEALLSRPEKPTAILCASTALALGAIRSLNQRGL\n",
      "KPGRDISLIAHDDVLPLLKPDNFSVPLTTTRSSLRAAGVRVGQRLINRIKLNQTEPHQELWKAELVVRAS\n",
      "TGPAPKA\n",
      "MRKTLLATAASMVLLSGSVFAADLKFAPGADAKFNWKSYEDFKAAHADLKGQTLTIFGPWRGEDEALFQS\n",
      "VLAYFADATGVNVRYSSSENYEQQIVIDTQAGSPPNIAILPQPGLLADLAAKGFLVPLGDDTAKWVEENY\n",
      "GAGKSWVDLGSYKGKDGNKAYFAFPFKADVKSLVWYVPENFEEAGYKVPESMEDLLKLTDQIVADGGTPW\n",
      "CIGLGSGGATGWPATDWVEDLMLRTQPLDVYQKWTTNEVKFTDPAVVAAINEFGKFAKNEKYVSGGVAAV\n",
      "ASTDFRDSPKGLFDIPPKCYLHHQASFIPSFFPEGTKVGTDADFFYMPTYASKPELGKPVLGAGTLVTVT\n",
      "KEAPAAKAFVEFLKTPIAHEVWMAQSSFLTPYKGVNVDTYANEQMKRQGEILTTATTFGFDGSDLMPGKI\n",
      "GAGAFWTGMIDFVGGKSADQVAADIQKAWDGLK\n",
      "\n"
     ]
    },
    {
     "ename": "KeyError",
     "evalue": "'MEN'",
     "output_type": "error",
     "traceback": [
      "\u001b[0;31m---------------------------------------------------------------------------\u001b[0m",
      "\u001b[0;31mKeyError\u001b[0m                                  Traceback (most recent call last)",
      "\u001b[0;32m/tmp/ipykernel_116947/1709201576.py\u001b[0m in \u001b[0;36m<module>\u001b[0;34m\u001b[0m\n\u001b[1;32m     18\u001b[0m \u001b[0;31m# Generate protein sequence\u001b[0m\u001b[0;34m\u001b[0m\u001b[0;34m\u001b[0m\u001b[0;34m\u001b[0m\u001b[0m\n\u001b[1;32m     19\u001b[0m \u001b[0;32mfor\u001b[0m \u001b[0mi\u001b[0m \u001b[0;32min\u001b[0m \u001b[0mrange\u001b[0m\u001b[0;34m(\u001b[0m\u001b[0;36m0\u001b[0m\u001b[0;34m,\u001b[0m \u001b[0mlen\u001b[0m\u001b[0;34m(\u001b[0m\u001b[0mdna\u001b[0m\u001b[0;34m)\u001b[0m\u001b[0;34m-\u001b[0m\u001b[0;34m(\u001b[0m\u001b[0;36m3\u001b[0m\u001b[0;34m+\u001b[0m\u001b[0mlen\u001b[0m\u001b[0;34m(\u001b[0m\u001b[0mdna\u001b[0m\u001b[0;34m)\u001b[0m\u001b[0;34m%\u001b[0m\u001b[0;36m3\u001b[0m\u001b[0;34m)\u001b[0m\u001b[0;34m,\u001b[0m \u001b[0;36m3\u001b[0m\u001b[0;34m)\u001b[0m\u001b[0;34m:\u001b[0m\u001b[0;34m\u001b[0m\u001b[0;34m\u001b[0m\u001b[0m\n\u001b[0;32m---> 20\u001b[0;31m     \u001b[0;32mif\u001b[0m \u001b[0mprotein\u001b[0m\u001b[0;34m[\u001b[0m\u001b[0mdna\u001b[0m\u001b[0;34m[\u001b[0m\u001b[0mi\u001b[0m\u001b[0;34m:\u001b[0m\u001b[0mi\u001b[0m\u001b[0;34m+\u001b[0m\u001b[0;36m3\u001b[0m\u001b[0;34m]\u001b[0m\u001b[0;34m]\u001b[0m \u001b[0;34m==\u001b[0m \u001b[0;34m\"STOP\"\u001b[0m \u001b[0;34m:\u001b[0m\u001b[0;34m\u001b[0m\u001b[0;34m\u001b[0m\u001b[0m\n\u001b[0m\u001b[1;32m     21\u001b[0m         \u001b[0;32mbreak\u001b[0m\u001b[0;34m\u001b[0m\u001b[0;34m\u001b[0m\u001b[0m\n\u001b[1;32m     22\u001b[0m     \u001b[0mprotein_sequence\u001b[0m \u001b[0;34m+=\u001b[0m \u001b[0mprotein\u001b[0m\u001b[0;34m[\u001b[0m\u001b[0mdna\u001b[0m\u001b[0;34m[\u001b[0m\u001b[0mi\u001b[0m\u001b[0;34m:\u001b[0m\u001b[0mi\u001b[0m\u001b[0;34m+\u001b[0m\u001b[0;36m3\u001b[0m\u001b[0;34m]\u001b[0m\u001b[0;34m]\u001b[0m\u001b[0;34m\u001b[0m\u001b[0;34m\u001b[0m\u001b[0m\n",
      "\u001b[0;31mKeyError\u001b[0m: 'MEN'"
     ]
    }
   ],
   "source": [
    "file = open('/home/user/Otitis/bio/sample.faa', 'r')\n",
    "dna = file.read()\n",
    "\n",
    "print(\"DNA Sequence: \", dna)\n",
    "# DNA codon table\n",
    "protein = {'I':'ATA','M':'ATG','T':'ACA',\n",
    "\t\t'N':'AAC','K':'AAA','S':'AGC',\n",
    "\t\t'R':'AGG','L':'CTA','P':'CCA',\n",
    "\t\t'H':'CAC','Q':'CAA','R':'CGA',\n",
    "\t\t'V':'GTA','A':'GCA','D':'GAC',\n",
    "\t\t'E':'GAA','G':'GGA','S':'TCA',\n",
    "\t\t'F':'TTC','L':'TTA','Y':'TAC',\n",
    "\t\t'C':'TGC','W':'TGG'\n",
    "           }\n",
    "\n",
    "protein_sequence = \"\"\n",
    "\n",
    "# Generate protein sequence\n",
    "for i in range(0, len(dna)-(3+len(dna)%3), 3):\n",
    "    if protein[dna[i:i+3]] == \"STOP\" :\n",
    "        break\n",
    "    protein_sequence += protein[dna[i:i+3]]\n",
    "\n",
    "# Print the protein sequence\n",
    "print(\"Protein Sequence: \", protein_sequence)"
   ]
  },
  {
   "cell_type": "code",
   "execution_count": 5,
   "metadata": {},
   "outputs": [],
   "source": [
    "a_dict = {'I':'ATA','M':'ATG','T':'ACA',\n",
    "\t\t'N':'AAC','K':'AAA','S':'AGC',\n",
    "\t\t'R':'AGG','L':'CTA','P':'CCA',\n",
    "\t\t'H':'CAC','Q':'CAA','R':'CGA',\n",
    "\t\t'V':'GTA','A':'GCA','D':'GAC',\n",
    "\t\t'E':'GAA','G':'GGA','S':'TCA',\n",
    "\t\t'F':'TTC','L':'TTA','Y':'TAC',\n",
    "\t\t'C':'TGC','W':'TGG'\n",
    "           }\n",
    "input_file= open(r'/home/user/Otitis/bio/sample.faa','r').read();\n",
    "for key,value in a_dict.items():\n",
    "    input_file=input_file.replace(key,value)"
   ]
  },
  {
   "cell_type": "code",
   "execution_count": 3,
   "metadata": {},
   "outputs": [],
   "source": [
    "with open (\"/home/user/Otitis/bio/sample.txt\", \"r\") as myfile:\n",
    "    data=myfile.readlines()\n",
    "\n",
    "map = {'I':'ATA','M':'ATG','T':'ACA',\n",
    "\t\t'N':'AAC','K':'AAA','S':'AGC',\n",
    "\t\t'R':'AGG','L':'CTA','P':'CCA',\n",
    "\t\t'H':'CAC','Q':'CAA','R':'CGA',\n",
    "\t\t'V':'GTA','A':'GCA','D':'GAC',\n",
    "\t\t'E':'GAA','G':'GGA','S':'TCA',\n",
    "\t\t'F':'TTC','L':'TTA','Y':'TAC',\n",
    "\t\t'C':'TGC','W':'TGG'}\n",
    "\n",
    "DNA=data[1]\n",
    "flag = 1\n",
    "while flag:\n",
    "    start = DNA.find('AUG')\n",
    "    if start == -1:\n",
    "        flag = 0\n",
    "    else:\n",
    "        done = 0\n",
    "        while done!= 0:\n",
    "            i = start\n",
    "            codon = DNA[1:i+3]\n",
    "            if codon == \"UAG\":\n",
    "                stop = i\n",
    "                protein = translate(DNA(start))\n",
    "                DNA = DNA[stop:]\n",
    "                done = 1\n",
    "                print(protein)"
   ]
  },
  {
   "cell_type": "code",
   "execution_count": 1,
   "metadata": {},
   "outputs": [],
   "source": [
    "with open (\"/home/user/Otitis/bio/sample.txt\", \"r\") as myfile:\n",
    "    data=myfile.readlines()\n",
    "\n",
    "map = {\"UUU\":\"F\", \"UUC\":\"F\", \"UUA\":\"L\", \"UUG\":\"L\",\n",
    "       \"UCU\":\"S\", \"UCC\":\"s\", \"UCA\":\"S\", \"UCG\":\"S\",\n",
    "       \"UAU\":\"Y\", \"UAC\":\"Y\", \"UAA\":\"STOP\", \"UAG\":\"STOP\",\n",
    "       \"UGU\":\"C\", \"UGC\":\"C\", \"UGA\":\"STOP\", \"UGG\":\"W\",\n",
    "       \"CUU\":\"L\", \"CUC\":\"L\", \"CUA\":\"L\", \"CUG\":\"L\",\n",
    "       \"CCU\":\"P\", \"CCC\":\"P\", \"CCA\":\"P\", \"CCG\":\"P\",\n",
    "       \"CAU\":\"H\", \"CAC\":\"H\", \"CAA\":\"Q\", \"CAG\":\"Q\",\n",
    "       \"CGU\":\"R\", \"CGC\":\"R\", \"CGA\":\"R\", \"CGG\":\"R\",\n",
    "       \"AUU\":\"I\", \"AUC\":\"I\", \"AUA\":\"I\", \"AUG\":\"M\",\n",
    "       \"ACU\":\"T\", \"ACC\":\"T\", \"ACA\":\"T\", \"ACG\":\"T\",\n",
    "       \"AAU\":\"N\", \"AAC\":\"N\", \"AAA\":\"K\", \"AAG\":\"K\",\n",
    "       \"AGU\":\"S\", \"AGC\":\"S\", \"AGA\":\"R\", \"AGG\":\"R\",\n",
    "       \"GUU\":\"V\", \"GUC\":\"V\", \"GUA\":\"V\", \"GUG\":\"V\",\n",
    "       \"GCU\":\"A\", \"GCC\":\"A\", \"GCA\":\"A\", \"GCG\":\"A\",\n",
    "       \"GAU\":\"D\", \"GAC\":\"D\", \"GAA\":\"E\", \"GAG\":\"E\",\n",
    "       \"GGU\":\"G\", \"GGC\":\"G\", \"GGA\":\"G\", \"GGG\":\"G\",}\n",
    "\n",
    "DNA=data[1].strip()\n",
    "start = DNA.find('AUG')\n",
    "if start!= -1:\n",
    "    while start+2 < len(DNA):\n",
    "        codon = DNA[start:start+3]\n",
    "        if codon == \"UAG\": break;\n",
    "        print(map[codon])\n",
    "        start+=3"
   ]
  },
  {
   "cell_type": "code",
   "execution_count": null,
   "metadata": {},
   "outputs": [
    {
     "ename": "Error",
     "evalue": "Session cannot generate requests",
     "output_type": "error",
     "traceback": [
      "Error: Session cannot generate requests",
      "at w.executeCodeCell (/home/user/.vscode-server/extensions/ms-toolsai.jupyter-2021.9.1101343141/out/client/extension.js:52:301180)",
      "at w.execute (/home/user/.vscode-server/extensions/ms-toolsai.jupyter-2021.9.1101343141/out/client/extension.js:52:300551)",
      "at w.start (/home/user/.vscode-server/extensions/ms-toolsai.jupyter-2021.9.1101343141/out/client/extension.js:52:296215)",
      "at async t.CellExecutionQueue.executeQueuedCells (/home/user/.vscode-server/extensions/ms-toolsai.jupyter-2021.9.1101343141/out/client/extension.js:52:310950)",
      "at async t.CellExecutionQueue.start (/home/user/.vscode-server/extensions/ms-toolsai.jupyter-2021.9.1101343141/out/client/extension.js:52:310490)"
     ]
    }
   ],
   "source": [
    "import fileinput\n",
    "\n",
    "text = \"/home/user/Otitis/bio/sample.txt\"\n",
    "fields = {'I':'ATA','M':'ATG','T':'ACA',\n",
    "\t\t'N':'AAC','K':'AAA','S':'AGC',\n",
    "\t\t'R':'AGG','L':'CTA','P':'CCA',\n",
    "\t\t'H':'CAC','Q':'CAA','R':'CGA',\n",
    "\t\t'V':'GTA','A':'GCA','D':'GAC',\n",
    "\t\t'E':'GAA','G':'GGA','S':'TCA',\n",
    "\t\t'F':'TTC','L':'TTA','Y':'TAC',\n",
    "\t\t'C':'TGC','W':'TGG'}\n",
    "\n",
    "\n",
    "for line in fileinput.input(text, inplace=True):\n",
    "    line = line.rstrip()\n",
    "    if not line:\n",
    "        continue\n",
    "    for f_key, f_value in fields.items():\n",
    "        if f_key in line:\n",
    "            line = line.replace(f_key, f_value)\n",
    "    print line"
   ]
  }
 ],
 "metadata": {
  "interpreter": {
   "hash": "363ff627f301a5d66f13a316142ba016ef620e345dd0459e9e73c2d1dd99c547"
  },
  "kernelspec": {
   "display_name": "Python 3.8.5 64-bit ('ZD2L': conda)",
   "name": "python3"
  },
  "language_info": {
   "codemirror_mode": {
    "name": "ipython",
    "version": 3
   },
   "file_extension": ".py",
   "mimetype": "text/x-python",
   "name": "python",
   "nbconvert_exporter": "python",
   "pygments_lexer": "ipython3",
   "version": "3.8.5"
  },
  "orig_nbformat": 4
 },
 "nbformat": 4,
 "nbformat_minor": 2
}
